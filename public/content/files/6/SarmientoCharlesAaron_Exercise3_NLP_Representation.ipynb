{
  "cells": [
    {
      "cell_type": "markdown",
      "source": [
        "# Installing Necessary Libraries"
      ],
      "metadata": {
        "id": "4t1oM8FQ1-Iu"
      },
      "id": "4t1oM8FQ1-Iu"
    },
    {
      "cell_type": "code",
      "source": [
        "!pip install gensim"
      ],
      "metadata": {
        "colab": {
          "base_uri": "https://localhost:8080/"
        },
        "id": "tyFEb1_A19Sf",
        "outputId": "aff059bb-0fd0-4ad0-ced3-9b36374eef43"
      },
      "id": "tyFEb1_A19Sf",
      "execution_count": 1,
      "outputs": [
        {
          "output_type": "stream",
          "name": "stdout",
          "text": [
            "Requirement already satisfied: gensim in /usr/local/lib/python3.11/dist-packages (4.3.3)\n",
            "Requirement already satisfied: numpy<2.0,>=1.18.5 in /usr/local/lib/python3.11/dist-packages (from gensim) (1.26.4)\n",
            "Requirement already satisfied: scipy<1.14.0,>=1.7.0 in /usr/local/lib/python3.11/dist-packages (from gensim) (1.13.1)\n",
            "Requirement already satisfied: smart-open>=1.8.1 in /usr/local/lib/python3.11/dist-packages (from gensim) (7.3.0.post1)\n",
            "Requirement already satisfied: wrapt in /usr/local/lib/python3.11/dist-packages (from smart-open>=1.8.1->gensim) (1.17.2)\n"
          ]
        }
      ]
    },
    {
      "cell_type": "markdown",
      "id": "cf8639f6",
      "metadata": {
        "id": "cf8639f6"
      },
      "source": [
        "# Text Representation Methods\n",
        "---\n",
        "1. [Dictionary Lookup](#scrollTo=0b145665)\n",
        "2. [One-Hot Encoding](#scrollTo=30a4b98b)\n",
        "3. [Bag-of-Words](#scrollTo=660b7966)\n",
        "4. [Term Frequency - Inverse Document Frequency (TF-IDF)](#scrollTo=bb9d65da&line=1&uniqifier=1)\n",
        "5. [Word Embeddings]()"
      ]
    },
    {
      "cell_type": "markdown",
      "id": "0b145665",
      "metadata": {
        "id": "0b145665"
      },
      "source": [
        "## Dictionary Lookup"
      ]
    },
    {
      "cell_type": "markdown",
      "source": [
        "A list of sentences, which will act as the dataset for this text representation.\n",
        "\n",
        "It consists of three sentences, each with varying amount of words."
      ],
      "metadata": {
        "id": "joMF2UsCGUJn"
      },
      "id": "joMF2UsCGUJn"
    },
    {
      "cell_type": "code",
      "source": [
        "sentences = [\n",
        "  \"The quick brown fox jumps over the lazy dog\",\n",
        "  \"A journey of a thousand miles begins with a single step\",\n",
        "  \"To be or not to be that is the question\"\n",
        "]\n",
        "\n",
        "sentences"
      ],
      "metadata": {
        "colab": {
          "base_uri": "https://localhost:8080/"
        },
        "id": "1JCy4CqwFt0O",
        "outputId": "da2d799a-fcab-450e-8611-627abee39a6e"
      },
      "id": "1JCy4CqwFt0O",
      "execution_count": 2,
      "outputs": [
        {
          "output_type": "execute_result",
          "data": {
            "text/plain": [
              "['The quick brown fox jumps over the lazy dog',\n",
              " 'A journey of a thousand miles begins with a single step',\n",
              " 'To be or not to be that is the question']"
            ]
          },
          "metadata": {},
          "execution_count": 2
        }
      ]
    },
    {
      "cell_type": "markdown",
      "source": [
        "Since the defined sentences are not consistently cased, it may lead to \"duplicate\" words, like \"The\" and \"the\".\n",
        "\n",
        "To remedy this, I transformed the list using the built-in `map()`  Python function. It accepts:\n",
        "- a function which accepts an element of the given list, In this case, it is given a lambda (anonymous) function that transforms a sentence into its lowercase form using a string's `lower()` method.\n",
        "- the list that will be iterated through. In this case, it is the `sentences` list.\n",
        "\n",
        "Since the `map()` function returns an iterator, it needs to be turned back into a list. This is done by passing it to the constructor of the `list` class."
      ],
      "metadata": {
        "id": "HcuGd7t1vHgo"
      },
      "id": "HcuGd7t1vHgo"
    },
    {
      "cell_type": "code",
      "source": [
        "sentences = list(map(lambda sentence: sentence.lower(), sentences))\n",
        "sentences"
      ],
      "metadata": {
        "colab": {
          "base_uri": "https://localhost:8080/"
        },
        "id": "5h-vluZmGgal",
        "outputId": "b04bd384-96d2-401c-b587-7a3439b1076a"
      },
      "id": "5h-vluZmGgal",
      "execution_count": 3,
      "outputs": [
        {
          "output_type": "execute_result",
          "data": {
            "text/plain": [
              "['the quick brown fox jumps over the lazy dog',\n",
              " 'a journey of a thousand miles begins with a single step',\n",
              " 'to be or not to be that is the question']"
            ]
          },
          "metadata": {},
          "execution_count": 3
        }
      ]
    },
    {
      "cell_type": "markdown",
      "source": [
        "A function definition, which extracts unique words in a list of sentences, and returns a dictionary of words with a corresponding unique ID.\n",
        "\n",
        "Inside the function, a `set` is defined. A `set` is a class built into Python that acts like a list, but it only stores unique values. If the set is updated with a non-unique value, a duplicate entry is not stored. This data structure is used to guarantee that only unique values are kept.\n",
        "\n",
        "Each sentence in the list is iterated through. Each one is split, with a default delimiter of a whitespace character. Each word is then added to the `unique_words` set, guaranteeing that unique words from each sentence is stored.\n",
        "\n",
        "Once all sentences have been iterated through, a dictionary is made through Python's dictionary comprehension. Through this method, a dictionary is created by extracting extracting the word, and its index, through Python's `enumarate()` function."
      ],
      "metadata": {
        "id": "jp9RuFcIwrCq"
      },
      "id": "jp9RuFcIwrCq"
    },
    {
      "cell_type": "code",
      "source": [
        "def extract_words(sentences):\n",
        "    \"\"\"\n",
        "    Extracts unique words from a list of sentences and assigns each a numeric ID.\n",
        "    Args:\n",
        "        sentences (list of str): A list of sentences.\n",
        "    Returns:\n",
        "        dict: A dictionary with numeric IDs as keys and words as values.\n",
        "    \"\"\"\n",
        "    # Split sentences into words and use a set to keep unique words\n",
        "    unique_words = set()\n",
        "    for sentence in sentences:\n",
        "        words = sentence.split()\n",
        "        unique_words.update(words)\n",
        "\n",
        "    # Create a dictionary with incrementing numeric IDs as keys\n",
        "    word_dict = {i: word for i, word in enumerate(unique_words)}\n",
        "\n",
        "    return word_dict\n",
        "\n"
      ],
      "metadata": {
        "id": "xyjzFuPtGC7W"
      },
      "id": "xyjzFuPtGC7W",
      "execution_count": 4,
      "outputs": []
    },
    {
      "cell_type": "markdown",
      "source": [
        "The previously defined `extract_words()` function is then executed with the list of sentences I defined from an earlier code block.\n",
        "\n",
        "The generated dictionary is displayed, clearly showing how each word, though unordered, are given a unique numeric ID."
      ],
      "metadata": {
        "id": "lyUe7vWsywmk"
      },
      "id": "lyUe7vWsywmk"
    },
    {
      "cell_type": "code",
      "source": [
        "print(\"Extracted words with their numeric ID\")\n",
        "word_dict = extract_words(sentences)\n",
        "word_dict"
      ],
      "metadata": {
        "colab": {
          "base_uri": "https://localhost:8080/"
        },
        "id": "Y4DM-bSpFzFE",
        "outputId": "5d750b28-d806-4778-83ea-c42c02a81e3c"
      },
      "id": "Y4DM-bSpFzFE",
      "execution_count": 5,
      "outputs": [
        {
          "output_type": "stream",
          "name": "stdout",
          "text": [
            "Extracted words with their numeric ID\n"
          ]
        },
        {
          "output_type": "execute_result",
          "data": {
            "text/plain": [
              "{0: 'step',\n",
              " 1: 'of',\n",
              " 2: 'be',\n",
              " 3: 'dog',\n",
              " 4: 'jumps',\n",
              " 5: 'to',\n",
              " 6: 'with',\n",
              " 7: 'fox',\n",
              " 8: 'not',\n",
              " 9: 'question',\n",
              " 10: 'thousand',\n",
              " 11: 'lazy',\n",
              " 12: 'the',\n",
              " 13: 'or',\n",
              " 14: 'miles',\n",
              " 15: 'that',\n",
              " 16: 'is',\n",
              " 17: 'quick',\n",
              " 18: 'journey',\n",
              " 19: 'a',\n",
              " 20: 'single',\n",
              " 21: 'begins',\n",
              " 22: 'over',\n",
              " 23: 'brown'}"
            ]
          },
          "metadata": {},
          "execution_count": 5
        }
      ]
    },
    {
      "cell_type": "markdown",
      "source": [
        "Two functions are defined, one to lookup the word associated by an ID, and another to lookup the ID of a particular word.\n",
        "\n",
        "---\n",
        "\n",
        "`lookup_by_id()` accepts:\n",
        "- a word dictionary, containing a numeric ID and a unique word.\n",
        "- a numeric ID, which may refer to a word in the given dictionary.\n",
        "\n",
        "This function iterates through the word dictionary, displaying the word associated to that ID if it finds a match, or a corresponding message if the ID provided is not associated with a word in the dictionary.\n",
        "\n",
        "---\n",
        "\n",
        "`lookup_by_word()` accepts:\n",
        "- a word dictionary, containing a numeric ID and a unique word.\n",
        "- a word, which may or may not be in the given dictionary.\n",
        "\n",
        "This function iterates through the word dictionary, displaying the ID associated to the given word. If the word is not found in the dictionary, a corresponding message is displayed."
      ],
      "metadata": {
        "id": "eB4x6fk5HFkk"
      },
      "id": "eB4x6fk5HFkk"
    },
    {
      "cell_type": "code",
      "source": [
        "def lookup_by_id(word_dict, numeric_id):\n",
        "    # Iterate through the dictionary to find the word\n",
        "    for id, dict_word in word_dict.items():\n",
        "        if int(numeric_id) == id:\n",
        "            return f\"The numeric id '{numeric_id}' is used to identify the word: {dict_word}\"\n",
        "    return f\"The ID '{numeric_id}' was not found in the dictionary.\"\n",
        "\n",
        "def lookup_by_word(word_dict, word):\n",
        "    # Iterate through the dictionary to find the word\n",
        "    for id, dict_word in word_dict.items():\n",
        "        if dict_word == word:\n",
        "            return f\"The word '{word}' has the numeric ID: {id}\"\n",
        "\n",
        "    return f\"The word '{word}' was not found in the dictionary.\""
      ],
      "metadata": {
        "id": "vkPen74xGOT4"
      },
      "id": "vkPen74xGOT4",
      "execution_count": 6,
      "outputs": []
    },
    {
      "cell_type": "markdown",
      "source": [
        "The following prompts the user for a numeric ID. Once the user enters an input, it is stripped of leading (start) and trailing (end) whitespaces.\n",
        "\n",
        "The loop first checks if the input corresponds to the word 'exit', which if it matches, then the loop promptly breaks and the execution of the code block is stopped.\n",
        "\n",
        "If it is not the word 'exit', the loop checks if the `user_input` string is not numeric, using a string's `isnumeric()` method. If the string cannot be successfully parsed into a valid numeric value, a message is displayed to the user, and the loop continues back to the start, prompting the user for another input again.\n",
        "\n",
        "If the `user_input` string is a valid numeric value, it is passed to the `lookup_by_id()` funtion, along with the previously generated `word_dict` dictionary. The result of the function is promptly stored and displayed to the user, and the user is prompted for another ID again."
      ],
      "metadata": {
        "id": "yn2483qwG_-B"
      },
      "id": "yn2483qwG_-B"
    },
    {
      "cell_type": "code",
      "source": [
        "while True:\n",
        "  user_input = input(\"Enter look up key (or 'exit' to quit): \").strip()\n",
        "\n",
        "  if user_input.lower() == 'exit':\n",
        "    print(\"Exiting the program.\")\n",
        "    break\n",
        "\n",
        "  if not user_input.isnumeric():\n",
        "    print(\"Look up key is not numeric.\");\n",
        "    continue;\n",
        "\n",
        "  result = lookup_by_id(word_dict, user_input)\n",
        "  print(f\"Result: {result}\\n\")"
      ],
      "metadata": {
        "colab": {
          "base_uri": "https://localhost:8080/"
        },
        "id": "116nv47iGQ07",
        "outputId": "2101d318-4cb9-4538-9e05-ab3a1dff61f3"
      },
      "id": "116nv47iGQ07",
      "execution_count": 7,
      "outputs": [
        {
          "output_type": "stream",
          "name": "stdout",
          "text": [
            "Enter look up key (or 'exit' to quit): 10\n",
            "Result: The numeric id '10' is used to identify the word: thousand\n",
            "\n",
            "Enter look up key (or 'exit' to quit): 50\n",
            "Result: The ID '50' was not found in the dictionary.\n",
            "\n",
            "Enter look up key (or 'exit' to quit): exit\n",
            "Exiting the program.\n"
          ]
        }
      ]
    },
    {
      "cell_type": "markdown",
      "id": "30a4b98b",
      "metadata": {
        "id": "30a4b98b"
      },
      "source": [
        "## One-Hot Encoding"
      ]
    },
    {
      "cell_type": "markdown",
      "source": [
        "For one-hot encoding, `numpy`'s array data structure will be used. As such, it is essential that numpy is imported. The alias `np` is used for this module."
      ],
      "metadata": {
        "id": "g_VrJVBdNoAG"
      },
      "id": "g_VrJVBdNoAG"
    },
    {
      "cell_type": "code",
      "source": [
        "import numpy as np"
      ],
      "metadata": {
        "id": "kIkBd953uKuV"
      },
      "id": "kIkBd953uKuV",
      "execution_count": 8,
      "outputs": []
    },
    {
      "cell_type": "markdown",
      "source": [
        "A new list of sentences is defined, consisting of two sentences, both of which have a relatively short length."
      ],
      "metadata": {
        "id": "7qqkr8cq2MSJ"
      },
      "id": "7qqkr8cq2MSJ"
    },
    {
      "cell_type": "code",
      "source": [
        "sentences = [\n",
        "  \"The cat in the hat\",\n",
        "  \"The dog in the house\"\n",
        "]"
      ],
      "metadata": {
        "id": "D3Taysn82Lwx"
      },
      "id": "D3Taysn82Lwx",
      "execution_count": 9,
      "outputs": []
    },
    {
      "cell_type": "markdown",
      "source": [
        "To ensure the sentences are consistently cased, the list is transformed to its lowercased form.\n",
        "\n",
        "Details on how this is done is described [here](#scrollTo=HcuGd7t1vHgo&line=1&uniqifier=1)"
      ],
      "metadata": {
        "id": "5YK2UfEp2bWL"
      },
      "id": "5YK2UfEp2bWL"
    },
    {
      "cell_type": "code",
      "source": [
        "sentences = list(map(lambda sentence: sentence.lower(), sentences))"
      ],
      "metadata": {
        "id": "0_iVUBUF2a4U"
      },
      "id": "0_iVUBUF2a4U",
      "execution_count": 10,
      "outputs": []
    },
    {
      "cell_type": "markdown",
      "source": [
        "Firstly, an empty dictionary is defined named `token_index`.\n",
        "Then, an integer variable named `counter` is defined with an initial value of 0.\n",
        "\n",
        "Then, all the sentences are looped through, and each sentence has each word, split for every whitespace character, iterated through. For each word, it is checked if it is not already in the `token_index` dictionary. If it is not, it is added to it, alongside the current value of the `counter` variable. Lastly, the counter variable is incremented by one (1).\n",
        "\n",
        "Once all sentences have been iterated through, the resulting `token_index` dictionary is printed."
      ],
      "metadata": {
        "id": "7CrkaCg14EOX"
      },
      "id": "7CrkaCg14EOX"
    },
    {
      "cell_type": "code",
      "execution_count": 11,
      "id": "2f69eb9d",
      "metadata": {
        "id": "2f69eb9d",
        "colab": {
          "base_uri": "https://localhost:8080/"
        },
        "outputId": "37e22344-f853-4e4e-9117-e1d1676100b0"
      },
      "outputs": [
        {
          "output_type": "stream",
          "name": "stdout",
          "text": [
            "{'the': 0, 'cat': 1, 'in': 2, 'hat': 3, 'dog': 4, 'house': 5}\n"
          ]
        }
      ],
      "source": [
        "token_index = {}\n",
        "counter = 0\n",
        "\n",
        "for sentence in sentences:\n",
        "  for considered_word in sentence.split():\n",
        "    if considered_word not in token_index:\n",
        "      token_index.update({considered_word : counter})\n",
        "      counter = counter + 1\n",
        "\n",
        "print(token_index)"
      ]
    },
    {
      "cell_type": "markdown",
      "source": [
        "A `max_length` integer variable is defined with a value of six (6). This variable corresponds to what is the maximum length of a sentence is in the `sentences` list.\n",
        "\n",
        "An array, filled with zeros, is created with numpy's `zeros()` method. It was passed in a tuple with three elements, for the `shape` parameter of the function call. The tuple, having three elements, tells the function generate a three-dimensional array filled with zeroes.\n",
        "\n",
        "In this case,\n",
        "- the first dimension of the array should have the amount sentences present in the `sentences` list. In this case, it is two (2).\n",
        "- the second dimension of the array should is set to be the value of the `max_length` variable. In this case, it is six (6).\n",
        "- the third dimension of the array should have the maximum value present in the `token_index` dictionary, incremented by one (1). In this case, it is six (6)."
      ],
      "metadata": {
        "id": "hZFo4yJw4prm"
      },
      "id": "hZFo4yJw4prm"
    },
    {
      "cell_type": "code",
      "source": [
        "max_length = 6\n",
        "results  = np.zeros(shape = (len(sentences),\n",
        "                            max_length,\n",
        "                            max(token_index.values()) + 1))\n",
        "print(\"Initial Vectors\")\n",
        "results"
      ],
      "metadata": {
        "colab": {
          "base_uri": "https://localhost:8080/"
        },
        "id": "HE1YVCUrA95r",
        "outputId": "602edb64-9fa2-4bbc-dff8-01a3e4278a25"
      },
      "id": "HE1YVCUrA95r",
      "execution_count": 12,
      "outputs": [
        {
          "output_type": "stream",
          "name": "stdout",
          "text": [
            "Initial Vectors\n"
          ]
        },
        {
          "output_type": "execute_result",
          "data": {
            "text/plain": [
              "array([[[0., 0., 0., 0., 0., 0.],\n",
              "        [0., 0., 0., 0., 0., 0.],\n",
              "        [0., 0., 0., 0., 0., 0.],\n",
              "        [0., 0., 0., 0., 0., 0.],\n",
              "        [0., 0., 0., 0., 0., 0.],\n",
              "        [0., 0., 0., 0., 0., 0.]],\n",
              "\n",
              "       [[0., 0., 0., 0., 0., 0.],\n",
              "        [0., 0., 0., 0., 0., 0.],\n",
              "        [0., 0., 0., 0., 0., 0.],\n",
              "        [0., 0., 0., 0., 0., 0.],\n",
              "        [0., 0., 0., 0., 0., 0.],\n",
              "        [0., 0., 0., 0., 0., 0.]]])"
            ]
          },
          "metadata": {},
          "execution_count": 12
        }
      ]
    },
    {
      "cell_type": "markdown",
      "source": [
        "The following is a nested for-loop, iterating through each word in each sentence in the `sentences` list. Each iteration is accompanied with its corresponding index in the `i` and `j` variable.\n",
        "\n",
        "For each iteration, it gets the index of the word in the sentence to the one stored in the `token_index` dictionary. For readability, the values of all the variables involved in the iterations are printed.\n",
        "\n",
        "To create the one-hot encoding vector, the value of one (1) is set to the three-dimensional array, where `i` corresponds to what sentence it is part of, `j` corresponds to what word it is in the sentence, and `index` is what word it is in relation to the all the unique words in the dataset."
      ],
      "metadata": {
        "id": "2b-wUQaIIDDD"
      },
      "id": "2b-wUQaIIDDD"
    },
    {
      "cell_type": "code",
      "source": [
        "for i, sentence in enumerate(sentences):\n",
        "  for j, considered_word in list(enumerate(sentence.split())):\n",
        "    index = token_index.get(considered_word)\n",
        "    print(i,j, sentence, index, considered_word)\n",
        "    results[i, j, index] = 1\n",
        "    print(results[i,j])"
      ],
      "metadata": {
        "colab": {
          "base_uri": "https://localhost:8080/"
        },
        "id": "D5hJNghOA_jN",
        "outputId": "5b4e1e26-e730-408a-a5d1-4a44e0dab4a4"
      },
      "id": "D5hJNghOA_jN",
      "execution_count": 13,
      "outputs": [
        {
          "output_type": "stream",
          "name": "stdout",
          "text": [
            "0 0 the cat in the hat 0 the\n",
            "[1. 0. 0. 0. 0. 0.]\n",
            "0 1 the cat in the hat 1 cat\n",
            "[0. 1. 0. 0. 0. 0.]\n",
            "0 2 the cat in the hat 2 in\n",
            "[0. 0. 1. 0. 0. 0.]\n",
            "0 3 the cat in the hat 0 the\n",
            "[1. 0. 0. 0. 0. 0.]\n",
            "0 4 the cat in the hat 3 hat\n",
            "[0. 0. 0. 1. 0. 0.]\n",
            "1 0 the dog in the house 0 the\n",
            "[1. 0. 0. 0. 0. 0.]\n",
            "1 1 the dog in the house 4 dog\n",
            "[0. 0. 0. 0. 1. 0.]\n",
            "1 2 the dog in the house 2 in\n",
            "[0. 0. 1. 0. 0. 0.]\n",
            "1 3 the dog in the house 0 the\n",
            "[1. 0. 0. 0. 0. 0.]\n",
            "1 4 the dog in the house 5 house\n",
            "[0. 0. 0. 0. 0. 1.]\n"
          ]
        }
      ]
    },
    {
      "cell_type": "markdown",
      "source": [
        "For verification, each word is printed alongside what position it is in the sentence, achieved using Python's `enumerate()` function."
      ],
      "metadata": {
        "id": "KQgaevud6n2L"
      },
      "id": "KQgaevud6n2L"
    },
    {
      "cell_type": "code",
      "source": [
        "for j, considered_word in list(enumerate(sentence.split())):\n",
        "  print(j, considered_word)"
      ],
      "metadata": {
        "colab": {
          "base_uri": "https://localhost:8080/"
        },
        "id": "M7OJNvm7BbAx",
        "outputId": "6bf50421-e4d5-4294-e2c0-497c07b3ac9a"
      },
      "id": "M7OJNvm7BbAx",
      "execution_count": 14,
      "outputs": [
        {
          "output_type": "stream",
          "name": "stdout",
          "text": [
            "0 the\n",
            "1 dog\n",
            "2 in\n",
            "3 the\n",
            "4 house\n"
          ]
        }
      ]
    },
    {
      "cell_type": "markdown",
      "source": [
        "The final vector output of the whole one-hot encoding operation is displayed, alongside the `token_index` dictionary. This lets me easily reference what each column of the encoding vector corresponds to what word in the unique words list."
      ],
      "metadata": {
        "id": "3GQGbK4_6zex"
      },
      "id": "3GQGbK4_6zex"
    },
    {
      "cell_type": "code",
      "source": [
        "print(\"Final Vector Representations:\")\n",
        "print(token_index)\n",
        "results"
      ],
      "metadata": {
        "colab": {
          "base_uri": "https://localhost:8080/"
        },
        "id": "J4UYXsS-BePZ",
        "outputId": "1649b7c6-0572-4753-e371-ffb90b02d713"
      },
      "id": "J4UYXsS-BePZ",
      "execution_count": 15,
      "outputs": [
        {
          "output_type": "stream",
          "name": "stdout",
          "text": [
            "Final Vector Representations:\n",
            "{'the': 0, 'cat': 1, 'in': 2, 'hat': 3, 'dog': 4, 'house': 5}\n"
          ]
        },
        {
          "output_type": "execute_result",
          "data": {
            "text/plain": [
              "array([[[1., 0., 0., 0., 0., 0.],\n",
              "        [0., 1., 0., 0., 0., 0.],\n",
              "        [0., 0., 1., 0., 0., 0.],\n",
              "        [1., 0., 0., 0., 0., 0.],\n",
              "        [0., 0., 0., 1., 0., 0.],\n",
              "        [0., 0., 0., 0., 0., 0.]],\n",
              "\n",
              "       [[1., 0., 0., 0., 0., 0.],\n",
              "        [0., 0., 0., 0., 1., 0.],\n",
              "        [0., 0., 1., 0., 0., 0.],\n",
              "        [1., 0., 0., 0., 0., 0.],\n",
              "        [0., 0., 0., 0., 0., 1.],\n",
              "        [0., 0., 0., 0., 0., 0.]]])"
            ]
          },
          "metadata": {},
          "execution_count": 15
        }
      ]
    },
    {
      "cell_type": "markdown",
      "id": "660b7966",
      "metadata": {
        "id": "660b7966"
      },
      "source": [
        "## Bag-of-Words"
      ]
    },
    {
      "cell_type": "markdown",
      "source": [
        "To implement bag-of-words text representation, **scikit-learn**'s `CountVectorizer` module is imported."
      ],
      "metadata": {
        "id": "JNPIgTNA7Aiy"
      },
      "id": "JNPIgTNA7Aiy"
    },
    {
      "cell_type": "code",
      "source": [
        "from sklearn.feature_extraction.text import CountVectorizer"
      ],
      "metadata": {
        "id": "8rd64QcouSVG"
      },
      "id": "8rd64QcouSVG",
      "execution_count": 16,
      "outputs": []
    },
    {
      "cell_type": "markdown",
      "source": [
        "A new list of sample sentences is defined."
      ],
      "metadata": {
        "id": "Zz19hQXO7NKB"
      },
      "id": "Zz19hQXO7NKB"
    },
    {
      "cell_type": "code",
      "source": [
        "# Sample sentences\n",
        "sentences = [\n",
        "  \"The cat in the hat\",\n",
        "  \"The dog in the house\",\n",
        "  \"The bird in the sky\"\n",
        "]"
      ],
      "metadata": {
        "id": "yY1McgjQ7MtJ"
      },
      "id": "yY1McgjQ7MtJ",
      "execution_count": 17,
      "outputs": []
    },
    {
      "cell_type": "markdown",
      "source": [
        "The `CountVectorizer` class is instantiated, and it is fitted with the `sentences` list to create a bag-of-words representation, using the `fit_transform()` method. The result of this operation is stored in the `bow` variable."
      ],
      "metadata": {
        "id": "y0JHqyVb7RL5"
      },
      "id": "y0JHqyVb7RL5"
    },
    {
      "cell_type": "code",
      "source": [
        "# Create a CountVectorizer object\n",
        "vectorizer = CountVectorizer()\n",
        "# Use the fit_transform method to transform the sentences into a bag of words\n",
        "bow = vectorizer.fit_transform(sentences)"
      ],
      "metadata": {
        "id": "FC9ZU92c7Pfh"
      },
      "id": "FC9ZU92c7Pfh",
      "execution_count": 18,
      "outputs": []
    },
    {
      "cell_type": "markdown",
      "source": [
        "For readability, both the list of sentences, and the amount of sentences fitted to the `CountVectorizer` class is displayed.\n",
        "\n",
        "Then, the unique words in the vectorizer is displayed using the instance's `vocabulary_` attribute and its `keys()` method.\n",
        "\n",
        "Lastly, the corresponding word of each column in the output is displayed with the call to the instance's `get_feature_names_out()` method. Alongside it, the bag-of-words representation of the sentences is displayed using the instance's `toarray()` method."
      ],
      "metadata": {
        "id": "D9Iu5TiO7c4Z"
      },
      "id": "D9Iu5TiO7c4Z"
    },
    {
      "cell_type": "code",
      "execution_count": 19,
      "id": "4a0c8f66",
      "metadata": {
        "id": "4a0c8f66",
        "colab": {
          "base_uri": "https://localhost:8080/"
        },
        "outputId": "0490fdd6-66d2-4839-8aaf-e8eb442128b3"
      },
      "outputs": [
        {
          "output_type": "stream",
          "name": "stdout",
          "text": [
            "Sentences processed: ['The cat in the hat', 'The dog in the house', 'The bird in the sky']\n",
            "\n",
            "Count: 3\n",
            "Unique Words in the corpus: ['the', 'cat', 'in', 'hat', 'dog', 'house', 'bird', 'sky']\n",
            "\n",
            "Bag of Words Conversion:\n",
            "['bird' 'cat' 'dog' 'hat' 'house' 'in' 'sky' 'the']\n",
            "[[0 1 0 1 0 1 0 2]\n",
            " [0 0 1 0 1 1 0 2]\n",
            " [1 0 0 0 0 1 1 2]]\n"
          ]
        }
      ],
      "source": [
        "\n",
        "# Print the sentences in the corpus\n",
        "print(\"Sentences processed: \"+str(sentences)+\"\\n\")\n",
        "print(\"Count: \" + str(len(sentences)))\n",
        "# Print the vocabulary (features) of the bag of words\n",
        "print(\"Unique Words in the corpus: \"+str(list(vectorizer.vocabulary_.keys())))\n",
        "print(\"\\nBag of Words Conversion:\")\n",
        "print(vectorizer.get_feature_names_out())\n",
        "# Print the bag of words\n",
        "print(bow.toarray())\n"
      ]
    },
    {
      "cell_type": "markdown",
      "source": [
        "For a cleaner display of the result, the **pandas** library was imported to use its `DataFrame` class.\n",
        "\n",
        "The `DataFrame` was created using the results of the `toarray()` method, and the names of the columns are defined using the results of the `get_feature_names_out()` method of the `CountVectorizer` instance."
      ],
      "metadata": {
        "id": "ghjQQIZ08Ehy"
      },
      "id": "ghjQQIZ08Ehy"
    },
    {
      "cell_type": "code",
      "source": [
        "import pandas as pd\n",
        "\n",
        "bow_df = pd.DataFrame(bow.toarray(), columns=vectorizer.get_feature_names_out())\n",
        "print(\"Bag of Words as DataFrame:\")\n",
        "bow_df"
      ],
      "metadata": {
        "colab": {
          "base_uri": "https://localhost:8080/",
          "height": 161
        },
        "id": "prZjcRZEh2Jr",
        "outputId": "ed9ee120-d86b-4767-c179-adde140ee2d4"
      },
      "id": "prZjcRZEh2Jr",
      "execution_count": 20,
      "outputs": [
        {
          "output_type": "stream",
          "name": "stdout",
          "text": [
            "Bag of Words as DataFrame:\n"
          ]
        },
        {
          "output_type": "execute_result",
          "data": {
            "text/plain": [
              "   bird  cat  dog  hat  house  in  sky  the\n",
              "0     0    1    0    1      0   1    0    2\n",
              "1     0    0    1    0      1   1    0    2\n",
              "2     1    0    0    0      0   1    1    2"
            ],
            "text/html": [
              "\n",
              "  <div id=\"df-5715bfda-7c59-4cba-a4df-4557a49ddc1d\" class=\"colab-df-container\">\n",
              "    <div>\n",
              "<style scoped>\n",
              "    .dataframe tbody tr th:only-of-type {\n",
              "        vertical-align: middle;\n",
              "    }\n",
              "\n",
              "    .dataframe tbody tr th {\n",
              "        vertical-align: top;\n",
              "    }\n",
              "\n",
              "    .dataframe thead th {\n",
              "        text-align: right;\n",
              "    }\n",
              "</style>\n",
              "<table border=\"1\" class=\"dataframe\">\n",
              "  <thead>\n",
              "    <tr style=\"text-align: right;\">\n",
              "      <th></th>\n",
              "      <th>bird</th>\n",
              "      <th>cat</th>\n",
              "      <th>dog</th>\n",
              "      <th>hat</th>\n",
              "      <th>house</th>\n",
              "      <th>in</th>\n",
              "      <th>sky</th>\n",
              "      <th>the</th>\n",
              "    </tr>\n",
              "  </thead>\n",
              "  <tbody>\n",
              "    <tr>\n",
              "      <th>0</th>\n",
              "      <td>0</td>\n",
              "      <td>1</td>\n",
              "      <td>0</td>\n",
              "      <td>1</td>\n",
              "      <td>0</td>\n",
              "      <td>1</td>\n",
              "      <td>0</td>\n",
              "      <td>2</td>\n",
              "    </tr>\n",
              "    <tr>\n",
              "      <th>1</th>\n",
              "      <td>0</td>\n",
              "      <td>0</td>\n",
              "      <td>1</td>\n",
              "      <td>0</td>\n",
              "      <td>1</td>\n",
              "      <td>1</td>\n",
              "      <td>0</td>\n",
              "      <td>2</td>\n",
              "    </tr>\n",
              "    <tr>\n",
              "      <th>2</th>\n",
              "      <td>1</td>\n",
              "      <td>0</td>\n",
              "      <td>0</td>\n",
              "      <td>0</td>\n",
              "      <td>0</td>\n",
              "      <td>1</td>\n",
              "      <td>1</td>\n",
              "      <td>2</td>\n",
              "    </tr>\n",
              "  </tbody>\n",
              "</table>\n",
              "</div>\n",
              "    <div class=\"colab-df-buttons\">\n",
              "\n",
              "  <div class=\"colab-df-container\">\n",
              "    <button class=\"colab-df-convert\" onclick=\"convertToInteractive('df-5715bfda-7c59-4cba-a4df-4557a49ddc1d')\"\n",
              "            title=\"Convert this dataframe to an interactive table.\"\n",
              "            style=\"display:none;\">\n",
              "\n",
              "  <svg xmlns=\"http://www.w3.org/2000/svg\" height=\"24px\" viewBox=\"0 -960 960 960\">\n",
              "    <path d=\"M120-120v-720h720v720H120Zm60-500h600v-160H180v160Zm220 220h160v-160H400v160Zm0 220h160v-160H400v160ZM180-400h160v-160H180v160Zm440 0h160v-160H620v160ZM180-180h160v-160H180v160Zm440 0h160v-160H620v160Z\"/>\n",
              "  </svg>\n",
              "    </button>\n",
              "\n",
              "  <style>\n",
              "    .colab-df-container {\n",
              "      display:flex;\n",
              "      gap: 12px;\n",
              "    }\n",
              "\n",
              "    .colab-df-convert {\n",
              "      background-color: #E8F0FE;\n",
              "      border: none;\n",
              "      border-radius: 50%;\n",
              "      cursor: pointer;\n",
              "      display: none;\n",
              "      fill: #1967D2;\n",
              "      height: 32px;\n",
              "      padding: 0 0 0 0;\n",
              "      width: 32px;\n",
              "    }\n",
              "\n",
              "    .colab-df-convert:hover {\n",
              "      background-color: #E2EBFA;\n",
              "      box-shadow: 0px 1px 2px rgba(60, 64, 67, 0.3), 0px 1px 3px 1px rgba(60, 64, 67, 0.15);\n",
              "      fill: #174EA6;\n",
              "    }\n",
              "\n",
              "    .colab-df-buttons div {\n",
              "      margin-bottom: 4px;\n",
              "    }\n",
              "\n",
              "    [theme=dark] .colab-df-convert {\n",
              "      background-color: #3B4455;\n",
              "      fill: #D2E3FC;\n",
              "    }\n",
              "\n",
              "    [theme=dark] .colab-df-convert:hover {\n",
              "      background-color: #434B5C;\n",
              "      box-shadow: 0px 1px 3px 1px rgba(0, 0, 0, 0.15);\n",
              "      filter: drop-shadow(0px 1px 2px rgba(0, 0, 0, 0.3));\n",
              "      fill: #FFFFFF;\n",
              "    }\n",
              "  </style>\n",
              "\n",
              "    <script>\n",
              "      const buttonEl =\n",
              "        document.querySelector('#df-5715bfda-7c59-4cba-a4df-4557a49ddc1d button.colab-df-convert');\n",
              "      buttonEl.style.display =\n",
              "        google.colab.kernel.accessAllowed ? 'block' : 'none';\n",
              "\n",
              "      async function convertToInteractive(key) {\n",
              "        const element = document.querySelector('#df-5715bfda-7c59-4cba-a4df-4557a49ddc1d');\n",
              "        const dataTable =\n",
              "          await google.colab.kernel.invokeFunction('convertToInteractive',\n",
              "                                                    [key], {});\n",
              "        if (!dataTable) return;\n",
              "\n",
              "        const docLinkHtml = 'Like what you see? Visit the ' +\n",
              "          '<a target=\"_blank\" href=https://colab.research.google.com/notebooks/data_table.ipynb>data table notebook</a>'\n",
              "          + ' to learn more about interactive tables.';\n",
              "        element.innerHTML = '';\n",
              "        dataTable['output_type'] = 'display_data';\n",
              "        await google.colab.output.renderOutput(dataTable, element);\n",
              "        const docLink = document.createElement('div');\n",
              "        docLink.innerHTML = docLinkHtml;\n",
              "        element.appendChild(docLink);\n",
              "      }\n",
              "    </script>\n",
              "  </div>\n",
              "\n",
              "\n",
              "    <div id=\"df-06f1ab5c-dc98-48b3-adb2-5dfacc9719a3\">\n",
              "      <button class=\"colab-df-quickchart\" onclick=\"quickchart('df-06f1ab5c-dc98-48b3-adb2-5dfacc9719a3')\"\n",
              "                title=\"Suggest charts\"\n",
              "                style=\"display:none;\">\n",
              "\n",
              "<svg xmlns=\"http://www.w3.org/2000/svg\" height=\"24px\"viewBox=\"0 0 24 24\"\n",
              "     width=\"24px\">\n",
              "    <g>\n",
              "        <path d=\"M19 3H5c-1.1 0-2 .9-2 2v14c0 1.1.9 2 2 2h14c1.1 0 2-.9 2-2V5c0-1.1-.9-2-2-2zM9 17H7v-7h2v7zm4 0h-2V7h2v10zm4 0h-2v-4h2v4z\"/>\n",
              "    </g>\n",
              "</svg>\n",
              "      </button>\n",
              "\n",
              "<style>\n",
              "  .colab-df-quickchart {\n",
              "      --bg-color: #E8F0FE;\n",
              "      --fill-color: #1967D2;\n",
              "      --hover-bg-color: #E2EBFA;\n",
              "      --hover-fill-color: #174EA6;\n",
              "      --disabled-fill-color: #AAA;\n",
              "      --disabled-bg-color: #DDD;\n",
              "  }\n",
              "\n",
              "  [theme=dark] .colab-df-quickchart {\n",
              "      --bg-color: #3B4455;\n",
              "      --fill-color: #D2E3FC;\n",
              "      --hover-bg-color: #434B5C;\n",
              "      --hover-fill-color: #FFFFFF;\n",
              "      --disabled-bg-color: #3B4455;\n",
              "      --disabled-fill-color: #666;\n",
              "  }\n",
              "\n",
              "  .colab-df-quickchart {\n",
              "    background-color: var(--bg-color);\n",
              "    border: none;\n",
              "    border-radius: 50%;\n",
              "    cursor: pointer;\n",
              "    display: none;\n",
              "    fill: var(--fill-color);\n",
              "    height: 32px;\n",
              "    padding: 0;\n",
              "    width: 32px;\n",
              "  }\n",
              "\n",
              "  .colab-df-quickchart:hover {\n",
              "    background-color: var(--hover-bg-color);\n",
              "    box-shadow: 0 1px 2px rgba(60, 64, 67, 0.3), 0 1px 3px 1px rgba(60, 64, 67, 0.15);\n",
              "    fill: var(--button-hover-fill-color);\n",
              "  }\n",
              "\n",
              "  .colab-df-quickchart-complete:disabled,\n",
              "  .colab-df-quickchart-complete:disabled:hover {\n",
              "    background-color: var(--disabled-bg-color);\n",
              "    fill: var(--disabled-fill-color);\n",
              "    box-shadow: none;\n",
              "  }\n",
              "\n",
              "  .colab-df-spinner {\n",
              "    border: 2px solid var(--fill-color);\n",
              "    border-color: transparent;\n",
              "    border-bottom-color: var(--fill-color);\n",
              "    animation:\n",
              "      spin 1s steps(1) infinite;\n",
              "  }\n",
              "\n",
              "  @keyframes spin {\n",
              "    0% {\n",
              "      border-color: transparent;\n",
              "      border-bottom-color: var(--fill-color);\n",
              "      border-left-color: var(--fill-color);\n",
              "    }\n",
              "    20% {\n",
              "      border-color: transparent;\n",
              "      border-left-color: var(--fill-color);\n",
              "      border-top-color: var(--fill-color);\n",
              "    }\n",
              "    30% {\n",
              "      border-color: transparent;\n",
              "      border-left-color: var(--fill-color);\n",
              "      border-top-color: var(--fill-color);\n",
              "      border-right-color: var(--fill-color);\n",
              "    }\n",
              "    40% {\n",
              "      border-color: transparent;\n",
              "      border-right-color: var(--fill-color);\n",
              "      border-top-color: var(--fill-color);\n",
              "    }\n",
              "    60% {\n",
              "      border-color: transparent;\n",
              "      border-right-color: var(--fill-color);\n",
              "    }\n",
              "    80% {\n",
              "      border-color: transparent;\n",
              "      border-right-color: var(--fill-color);\n",
              "      border-bottom-color: var(--fill-color);\n",
              "    }\n",
              "    90% {\n",
              "      border-color: transparent;\n",
              "      border-bottom-color: var(--fill-color);\n",
              "    }\n",
              "  }\n",
              "</style>\n",
              "\n",
              "      <script>\n",
              "        async function quickchart(key) {\n",
              "          const quickchartButtonEl =\n",
              "            document.querySelector('#' + key + ' button');\n",
              "          quickchartButtonEl.disabled = true;  // To prevent multiple clicks.\n",
              "          quickchartButtonEl.classList.add('colab-df-spinner');\n",
              "          try {\n",
              "            const charts = await google.colab.kernel.invokeFunction(\n",
              "                'suggestCharts', [key], {});\n",
              "          } catch (error) {\n",
              "            console.error('Error during call to suggestCharts:', error);\n",
              "          }\n",
              "          quickchartButtonEl.classList.remove('colab-df-spinner');\n",
              "          quickchartButtonEl.classList.add('colab-df-quickchart-complete');\n",
              "        }\n",
              "        (() => {\n",
              "          let quickchartButtonEl =\n",
              "            document.querySelector('#df-06f1ab5c-dc98-48b3-adb2-5dfacc9719a3 button');\n",
              "          quickchartButtonEl.style.display =\n",
              "            google.colab.kernel.accessAllowed ? 'block' : 'none';\n",
              "        })();\n",
              "      </script>\n",
              "    </div>\n",
              "\n",
              "  <div id=\"id_6177286f-1c6d-4e05-b2f8-f659a1acb035\">\n",
              "    <style>\n",
              "      .colab-df-generate {\n",
              "        background-color: #E8F0FE;\n",
              "        border: none;\n",
              "        border-radius: 50%;\n",
              "        cursor: pointer;\n",
              "        display: none;\n",
              "        fill: #1967D2;\n",
              "        height: 32px;\n",
              "        padding: 0 0 0 0;\n",
              "        width: 32px;\n",
              "      }\n",
              "\n",
              "      .colab-df-generate:hover {\n",
              "        background-color: #E2EBFA;\n",
              "        box-shadow: 0px 1px 2px rgba(60, 64, 67, 0.3), 0px 1px 3px 1px rgba(60, 64, 67, 0.15);\n",
              "        fill: #174EA6;\n",
              "      }\n",
              "\n",
              "      [theme=dark] .colab-df-generate {\n",
              "        background-color: #3B4455;\n",
              "        fill: #D2E3FC;\n",
              "      }\n",
              "\n",
              "      [theme=dark] .colab-df-generate:hover {\n",
              "        background-color: #434B5C;\n",
              "        box-shadow: 0px 1px 3px 1px rgba(0, 0, 0, 0.15);\n",
              "        filter: drop-shadow(0px 1px 2px rgba(0, 0, 0, 0.3));\n",
              "        fill: #FFFFFF;\n",
              "      }\n",
              "    </style>\n",
              "    <button class=\"colab-df-generate\" onclick=\"generateWithVariable('bow_df')\"\n",
              "            title=\"Generate code using this dataframe.\"\n",
              "            style=\"display:none;\">\n",
              "\n",
              "  <svg xmlns=\"http://www.w3.org/2000/svg\" height=\"24px\"viewBox=\"0 0 24 24\"\n",
              "       width=\"24px\">\n",
              "    <path d=\"M7,19H8.4L18.45,9,17,7.55,7,17.6ZM5,21V16.75L18.45,3.32a2,2,0,0,1,2.83,0l1.4,1.43a1.91,1.91,0,0,1,.58,1.4,1.91,1.91,0,0,1-.58,1.4L9.25,21ZM18.45,9,17,7.55Zm-12,3A5.31,5.31,0,0,0,4.9,8.1,5.31,5.31,0,0,0,1,6.5,5.31,5.31,0,0,0,4.9,4.9,5.31,5.31,0,0,0,6.5,1,5.31,5.31,0,0,0,8.1,4.9,5.31,5.31,0,0,0,12,6.5,5.46,5.46,0,0,0,6.5,12Z\"/>\n",
              "  </svg>\n",
              "    </button>\n",
              "    <script>\n",
              "      (() => {\n",
              "      const buttonEl =\n",
              "        document.querySelector('#id_6177286f-1c6d-4e05-b2f8-f659a1acb035 button.colab-df-generate');\n",
              "      buttonEl.style.display =\n",
              "        google.colab.kernel.accessAllowed ? 'block' : 'none';\n",
              "\n",
              "      buttonEl.onclick = () => {\n",
              "        google.colab.notebook.generateWithVariable('bow_df');\n",
              "      }\n",
              "      })();\n",
              "    </script>\n",
              "  </div>\n",
              "\n",
              "    </div>\n",
              "  </div>\n"
            ],
            "application/vnd.google.colaboratory.intrinsic+json": {
              "type": "dataframe",
              "variable_name": "bow_df",
              "summary": "{\n  \"name\": \"bow_df\",\n  \"rows\": 3,\n  \"fields\": [\n    {\n      \"column\": \"bird\",\n      \"properties\": {\n        \"dtype\": \"number\",\n        \"std\": 0,\n        \"min\": 0,\n        \"max\": 1,\n        \"num_unique_values\": 2,\n        \"samples\": [\n          1,\n          0\n        ],\n        \"semantic_type\": \"\",\n        \"description\": \"\"\n      }\n    },\n    {\n      \"column\": \"cat\",\n      \"properties\": {\n        \"dtype\": \"number\",\n        \"std\": 0,\n        \"min\": 0,\n        \"max\": 1,\n        \"num_unique_values\": 2,\n        \"samples\": [\n          0,\n          1\n        ],\n        \"semantic_type\": \"\",\n        \"description\": \"\"\n      }\n    },\n    {\n      \"column\": \"dog\",\n      \"properties\": {\n        \"dtype\": \"number\",\n        \"std\": 0,\n        \"min\": 0,\n        \"max\": 1,\n        \"num_unique_values\": 2,\n        \"samples\": [\n          1,\n          0\n        ],\n        \"semantic_type\": \"\",\n        \"description\": \"\"\n      }\n    },\n    {\n      \"column\": \"hat\",\n      \"properties\": {\n        \"dtype\": \"number\",\n        \"std\": 0,\n        \"min\": 0,\n        \"max\": 1,\n        \"num_unique_values\": 2,\n        \"samples\": [\n          0,\n          1\n        ],\n        \"semantic_type\": \"\",\n        \"description\": \"\"\n      }\n    },\n    {\n      \"column\": \"house\",\n      \"properties\": {\n        \"dtype\": \"number\",\n        \"std\": 0,\n        \"min\": 0,\n        \"max\": 1,\n        \"num_unique_values\": 2,\n        \"samples\": [\n          1,\n          0\n        ],\n        \"semantic_type\": \"\",\n        \"description\": \"\"\n      }\n    },\n    {\n      \"column\": \"in\",\n      \"properties\": {\n        \"dtype\": \"number\",\n        \"std\": 0,\n        \"min\": 1,\n        \"max\": 1,\n        \"num_unique_values\": 1,\n        \"samples\": [\n          1\n        ],\n        \"semantic_type\": \"\",\n        \"description\": \"\"\n      }\n    },\n    {\n      \"column\": \"sky\",\n      \"properties\": {\n        \"dtype\": \"number\",\n        \"std\": 0,\n        \"min\": 0,\n        \"max\": 1,\n        \"num_unique_values\": 2,\n        \"samples\": [\n          1\n        ],\n        \"semantic_type\": \"\",\n        \"description\": \"\"\n      }\n    },\n    {\n      \"column\": \"the\",\n      \"properties\": {\n        \"dtype\": \"number\",\n        \"std\": 0,\n        \"min\": 2,\n        \"max\": 2,\n        \"num_unique_values\": 1,\n        \"samples\": [\n          2\n        ],\n        \"semantic_type\": \"\",\n        \"description\": \"\"\n      }\n    }\n  ]\n}"
            }
          },
          "metadata": {},
          "execution_count": 20
        }
      ]
    },
    {
      "cell_type": "markdown",
      "id": "bb9d65da",
      "metadata": {
        "id": "bb9d65da"
      },
      "source": [
        "## Term Frequency - Inverse Document Frequency (TF-IDF)\n",
        "![tfidf.jpg](data:image/jpeg;base64,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)"
      ]
    },
    {
      "cell_type": "markdown",
      "source": [
        "To enable TF-IDF text representation, the `TfidfVectorizer` class of **scikit-learn** had to be imported."
      ],
      "metadata": {
        "id": "osTLl07w8js2"
      },
      "id": "osTLl07w8js2"
    },
    {
      "cell_type": "code",
      "source": [
        "from sklearn.feature_extraction.text import TfidfVectorizer"
      ],
      "metadata": {
        "id": "vPS7O_GRuZOd"
      },
      "id": "vPS7O_GRuZOd",
      "execution_count": 21,
      "outputs": []
    },
    {
      "cell_type": "markdown",
      "source": [
        "A new list of documents is defined which will be fitted to the TF-IDF Vectorizer."
      ],
      "metadata": {
        "id": "2KmLABCU87yj"
      },
      "id": "2KmLABCU87yj"
    },
    {
      "cell_type": "code",
      "source": [
        "documents = [\n",
        "  \"This is the first document.\",\n",
        "  \"This document is the second document.\",\n",
        "  \"And this is the third one.\",\n",
        "]"
      ],
      "metadata": {
        "id": "WsXM9JqK0Gx2"
      },
      "id": "WsXM9JqK0Gx2",
      "execution_count": 22,
      "outputs": []
    },
    {
      "cell_type": "markdown",
      "source": [
        "The `TfidfVectorizer` class is instantiated, and it is fitted with the `documents` list to create a TF-IDF text representation, using the `fit_transform()` method. The result of this operation is stored in the `X_tfidf` variable."
      ],
      "metadata": {
        "id": "3t_BvrAE9MZ8"
      },
      "id": "3t_BvrAE9MZ8"
    },
    {
      "cell_type": "code",
      "source": [
        "tfidf_vectorizer = TfidfVectorizer()\n",
        "X_tfidf = tfidf_vectorizer.fit_transform(documents)"
      ],
      "metadata": {
        "id": "REAa2jWk0MqU"
      },
      "id": "REAa2jWk0MqU",
      "execution_count": 23,
      "outputs": []
    },
    {
      "cell_type": "markdown",
      "source": [
        "The results of the TF-IDF vectorization is displayed, using the instance's `toarray()` method, alongside each column's name, using the instance's `get_feature_names_out()` method."
      ],
      "metadata": {
        "id": "r7IsCOU_9a7i"
      },
      "id": "r7IsCOU_9a7i"
    },
    {
      "cell_type": "code",
      "source": [
        "print(\"Final Text Representation:\")\n",
        "print(\"Feature Names:\", tfidf_vectorizer.get_feature_names_out())\n",
        "print(\"TF-IDF Matrix:\\n\", X_tfidf.toarray())"
      ],
      "metadata": {
        "colab": {
          "base_uri": "https://localhost:8080/"
        },
        "id": "Icm-yPd30RI7",
        "outputId": "c028fbef-2005-4928-919e-698f2ad07556"
      },
      "id": "Icm-yPd30RI7",
      "execution_count": 24,
      "outputs": [
        {
          "output_type": "stream",
          "name": "stdout",
          "text": [
            "Final Text Representation:\n",
            "Feature Names: ['and' 'document' 'first' 'is' 'one' 'second' 'the' 'third' 'this']\n",
            "TF-IDF Matrix:\n",
            " [[0.         0.46941728 0.61722732 0.3645444  0.         0.\n",
            "  0.3645444  0.         0.3645444 ]\n",
            " [0.         0.7284449  0.         0.28285122 0.         0.47890875\n",
            "  0.28285122 0.         0.28285122]\n",
            " [0.49711994 0.         0.         0.29360705 0.49711994 0.\n",
            "  0.29360705 0.49711994 0.29360705]]\n"
          ]
        }
      ]
    },
    {
      "cell_type": "markdown",
      "source": [
        "For a cleaner display of results, **pandas** library's `DataFrame` class was used.\n",
        "\n",
        "For the details on its implementation, refer to [this explanation.](#scrollTo=ghjQQIZ08Ehy&line=3&uniqifier=1)"
      ],
      "metadata": {
        "id": "nAZeni0R9wdN"
      },
      "id": "nAZeni0R9wdN"
    },
    {
      "cell_type": "code",
      "source": [
        "import pandas as pd\n",
        "\n",
        "X_tfidf_df = pd.DataFrame(X_tfidf.toarray(), columns=tfidf_vectorizer.get_feature_names_out())\n",
        "X_tfidf_df"
      ],
      "metadata": {
        "colab": {
          "base_uri": "https://localhost:8080/",
          "height": 143
        },
        "id": "VmTtkFuGilUx",
        "outputId": "2d6282c3-dacf-423d-cdbf-6e60bf1c747e"
      },
      "id": "VmTtkFuGilUx",
      "execution_count": 25,
      "outputs": [
        {
          "output_type": "execute_result",
          "data": {
            "text/plain": [
              "       and  document     first        is      one    second       the  \\\n",
              "0  0.00000  0.469417  0.617227  0.364544  0.00000  0.000000  0.364544   \n",
              "1  0.00000  0.728445  0.000000  0.282851  0.00000  0.478909  0.282851   \n",
              "2  0.49712  0.000000  0.000000  0.293607  0.49712  0.000000  0.293607   \n",
              "\n",
              "     third      this  \n",
              "0  0.00000  0.364544  \n",
              "1  0.00000  0.282851  \n",
              "2  0.49712  0.293607  "
            ],
            "text/html": [
              "\n",
              "  <div id=\"df-9d9fa8a7-3b8e-4527-9ed9-591203c9ec29\" class=\"colab-df-container\">\n",
              "    <div>\n",
              "<style scoped>\n",
              "    .dataframe tbody tr th:only-of-type {\n",
              "        vertical-align: middle;\n",
              "    }\n",
              "\n",
              "    .dataframe tbody tr th {\n",
              "        vertical-align: top;\n",
              "    }\n",
              "\n",
              "    .dataframe thead th {\n",
              "        text-align: right;\n",
              "    }\n",
              "</style>\n",
              "<table border=\"1\" class=\"dataframe\">\n",
              "  <thead>\n",
              "    <tr style=\"text-align: right;\">\n",
              "      <th></th>\n",
              "      <th>and</th>\n",
              "      <th>document</th>\n",
              "      <th>first</th>\n",
              "      <th>is</th>\n",
              "      <th>one</th>\n",
              "      <th>second</th>\n",
              "      <th>the</th>\n",
              "      <th>third</th>\n",
              "      <th>this</th>\n",
              "    </tr>\n",
              "  </thead>\n",
              "  <tbody>\n",
              "    <tr>\n",
              "      <th>0</th>\n",
              "      <td>0.00000</td>\n",
              "      <td>0.469417</td>\n",
              "      <td>0.617227</td>\n",
              "      <td>0.364544</td>\n",
              "      <td>0.00000</td>\n",
              "      <td>0.000000</td>\n",
              "      <td>0.364544</td>\n",
              "      <td>0.00000</td>\n",
              "      <td>0.364544</td>\n",
              "    </tr>\n",
              "    <tr>\n",
              "      <th>1</th>\n",
              "      <td>0.00000</td>\n",
              "      <td>0.728445</td>\n",
              "      <td>0.000000</td>\n",
              "      <td>0.282851</td>\n",
              "      <td>0.00000</td>\n",
              "      <td>0.478909</td>\n",
              "      <td>0.282851</td>\n",
              "      <td>0.00000</td>\n",
              "      <td>0.282851</td>\n",
              "    </tr>\n",
              "    <tr>\n",
              "      <th>2</th>\n",
              "      <td>0.49712</td>\n",
              "      <td>0.000000</td>\n",
              "      <td>0.000000</td>\n",
              "      <td>0.293607</td>\n",
              "      <td>0.49712</td>\n",
              "      <td>0.000000</td>\n",
              "      <td>0.293607</td>\n",
              "      <td>0.49712</td>\n",
              "      <td>0.293607</td>\n",
              "    </tr>\n",
              "  </tbody>\n",
              "</table>\n",
              "</div>\n",
              "    <div class=\"colab-df-buttons\">\n",
              "\n",
              "  <div class=\"colab-df-container\">\n",
              "    <button class=\"colab-df-convert\" onclick=\"convertToInteractive('df-9d9fa8a7-3b8e-4527-9ed9-591203c9ec29')\"\n",
              "            title=\"Convert this dataframe to an interactive table.\"\n",
              "            style=\"display:none;\">\n",
              "\n",
              "  <svg xmlns=\"http://www.w3.org/2000/svg\" height=\"24px\" viewBox=\"0 -960 960 960\">\n",
              "    <path d=\"M120-120v-720h720v720H120Zm60-500h600v-160H180v160Zm220 220h160v-160H400v160Zm0 220h160v-160H400v160ZM180-400h160v-160H180v160Zm440 0h160v-160H620v160ZM180-180h160v-160H180v160Zm440 0h160v-160H620v160Z\"/>\n",
              "  </svg>\n",
              "    </button>\n",
              "\n",
              "  <style>\n",
              "    .colab-df-container {\n",
              "      display:flex;\n",
              "      gap: 12px;\n",
              "    }\n",
              "\n",
              "    .colab-df-convert {\n",
              "      background-color: #E8F0FE;\n",
              "      border: none;\n",
              "      border-radius: 50%;\n",
              "      cursor: pointer;\n",
              "      display: none;\n",
              "      fill: #1967D2;\n",
              "      height: 32px;\n",
              "      padding: 0 0 0 0;\n",
              "      width: 32px;\n",
              "    }\n",
              "\n",
              "    .colab-df-convert:hover {\n",
              "      background-color: #E2EBFA;\n",
              "      box-shadow: 0px 1px 2px rgba(60, 64, 67, 0.3), 0px 1px 3px 1px rgba(60, 64, 67, 0.15);\n",
              "      fill: #174EA6;\n",
              "    }\n",
              "\n",
              "    .colab-df-buttons div {\n",
              "      margin-bottom: 4px;\n",
              "    }\n",
              "\n",
              "    [theme=dark] .colab-df-convert {\n",
              "      background-color: #3B4455;\n",
              "      fill: #D2E3FC;\n",
              "    }\n",
              "\n",
              "    [theme=dark] .colab-df-convert:hover {\n",
              "      background-color: #434B5C;\n",
              "      box-shadow: 0px 1px 3px 1px rgba(0, 0, 0, 0.15);\n",
              "      filter: drop-shadow(0px 1px 2px rgba(0, 0, 0, 0.3));\n",
              "      fill: #FFFFFF;\n",
              "    }\n",
              "  </style>\n",
              "\n",
              "    <script>\n",
              "      const buttonEl =\n",
              "        document.querySelector('#df-9d9fa8a7-3b8e-4527-9ed9-591203c9ec29 button.colab-df-convert');\n",
              "      buttonEl.style.display =\n",
              "        google.colab.kernel.accessAllowed ? 'block' : 'none';\n",
              "\n",
              "      async function convertToInteractive(key) {\n",
              "        const element = document.querySelector('#df-9d9fa8a7-3b8e-4527-9ed9-591203c9ec29');\n",
              "        const dataTable =\n",
              "          await google.colab.kernel.invokeFunction('convertToInteractive',\n",
              "                                                    [key], {});\n",
              "        if (!dataTable) return;\n",
              "\n",
              "        const docLinkHtml = 'Like what you see? Visit the ' +\n",
              "          '<a target=\"_blank\" href=https://colab.research.google.com/notebooks/data_table.ipynb>data table notebook</a>'\n",
              "          + ' to learn more about interactive tables.';\n",
              "        element.innerHTML = '';\n",
              "        dataTable['output_type'] = 'display_data';\n",
              "        await google.colab.output.renderOutput(dataTable, element);\n",
              "        const docLink = document.createElement('div');\n",
              "        docLink.innerHTML = docLinkHtml;\n",
              "        element.appendChild(docLink);\n",
              "      }\n",
              "    </script>\n",
              "  </div>\n",
              "\n",
              "\n",
              "    <div id=\"df-0e67469c-9785-43b5-8d30-70fe526bc08d\">\n",
              "      <button class=\"colab-df-quickchart\" onclick=\"quickchart('df-0e67469c-9785-43b5-8d30-70fe526bc08d')\"\n",
              "                title=\"Suggest charts\"\n",
              "                style=\"display:none;\">\n",
              "\n",
              "<svg xmlns=\"http://www.w3.org/2000/svg\" height=\"24px\"viewBox=\"0 0 24 24\"\n",
              "     width=\"24px\">\n",
              "    <g>\n",
              "        <path d=\"M19 3H5c-1.1 0-2 .9-2 2v14c0 1.1.9 2 2 2h14c1.1 0 2-.9 2-2V5c0-1.1-.9-2-2-2zM9 17H7v-7h2v7zm4 0h-2V7h2v10zm4 0h-2v-4h2v4z\"/>\n",
              "    </g>\n",
              "</svg>\n",
              "      </button>\n",
              "\n",
              "<style>\n",
              "  .colab-df-quickchart {\n",
              "      --bg-color: #E8F0FE;\n",
              "      --fill-color: #1967D2;\n",
              "      --hover-bg-color: #E2EBFA;\n",
              "      --hover-fill-color: #174EA6;\n",
              "      --disabled-fill-color: #AAA;\n",
              "      --disabled-bg-color: #DDD;\n",
              "  }\n",
              "\n",
              "  [theme=dark] .colab-df-quickchart {\n",
              "      --bg-color: #3B4455;\n",
              "      --fill-color: #D2E3FC;\n",
              "      --hover-bg-color: #434B5C;\n",
              "      --hover-fill-color: #FFFFFF;\n",
              "      --disabled-bg-color: #3B4455;\n",
              "      --disabled-fill-color: #666;\n",
              "  }\n",
              "\n",
              "  .colab-df-quickchart {\n",
              "    background-color: var(--bg-color);\n",
              "    border: none;\n",
              "    border-radius: 50%;\n",
              "    cursor: pointer;\n",
              "    display: none;\n",
              "    fill: var(--fill-color);\n",
              "    height: 32px;\n",
              "    padding: 0;\n",
              "    width: 32px;\n",
              "  }\n",
              "\n",
              "  .colab-df-quickchart:hover {\n",
              "    background-color: var(--hover-bg-color);\n",
              "    box-shadow: 0 1px 2px rgba(60, 64, 67, 0.3), 0 1px 3px 1px rgba(60, 64, 67, 0.15);\n",
              "    fill: var(--button-hover-fill-color);\n",
              "  }\n",
              "\n",
              "  .colab-df-quickchart-complete:disabled,\n",
              "  .colab-df-quickchart-complete:disabled:hover {\n",
              "    background-color: var(--disabled-bg-color);\n",
              "    fill: var(--disabled-fill-color);\n",
              "    box-shadow: none;\n",
              "  }\n",
              "\n",
              "  .colab-df-spinner {\n",
              "    border: 2px solid var(--fill-color);\n",
              "    border-color: transparent;\n",
              "    border-bottom-color: var(--fill-color);\n",
              "    animation:\n",
              "      spin 1s steps(1) infinite;\n",
              "  }\n",
              "\n",
              "  @keyframes spin {\n",
              "    0% {\n",
              "      border-color: transparent;\n",
              "      border-bottom-color: var(--fill-color);\n",
              "      border-left-color: var(--fill-color);\n",
              "    }\n",
              "    20% {\n",
              "      border-color: transparent;\n",
              "      border-left-color: var(--fill-color);\n",
              "      border-top-color: var(--fill-color);\n",
              "    }\n",
              "    30% {\n",
              "      border-color: transparent;\n",
              "      border-left-color: var(--fill-color);\n",
              "      border-top-color: var(--fill-color);\n",
              "      border-right-color: var(--fill-color);\n",
              "    }\n",
              "    40% {\n",
              "      border-color: transparent;\n",
              "      border-right-color: var(--fill-color);\n",
              "      border-top-color: var(--fill-color);\n",
              "    }\n",
              "    60% {\n",
              "      border-color: transparent;\n",
              "      border-right-color: var(--fill-color);\n",
              "    }\n",
              "    80% {\n",
              "      border-color: transparent;\n",
              "      border-right-color: var(--fill-color);\n",
              "      border-bottom-color: var(--fill-color);\n",
              "    }\n",
              "    90% {\n",
              "      border-color: transparent;\n",
              "      border-bottom-color: var(--fill-color);\n",
              "    }\n",
              "  }\n",
              "</style>\n",
              "\n",
              "      <script>\n",
              "        async function quickchart(key) {\n",
              "          const quickchartButtonEl =\n",
              "            document.querySelector('#' + key + ' button');\n",
              "          quickchartButtonEl.disabled = true;  // To prevent multiple clicks.\n",
              "          quickchartButtonEl.classList.add('colab-df-spinner');\n",
              "          try {\n",
              "            const charts = await google.colab.kernel.invokeFunction(\n",
              "                'suggestCharts', [key], {});\n",
              "          } catch (error) {\n",
              "            console.error('Error during call to suggestCharts:', error);\n",
              "          }\n",
              "          quickchartButtonEl.classList.remove('colab-df-spinner');\n",
              "          quickchartButtonEl.classList.add('colab-df-quickchart-complete');\n",
              "        }\n",
              "        (() => {\n",
              "          let quickchartButtonEl =\n",
              "            document.querySelector('#df-0e67469c-9785-43b5-8d30-70fe526bc08d button');\n",
              "          quickchartButtonEl.style.display =\n",
              "            google.colab.kernel.accessAllowed ? 'block' : 'none';\n",
              "        })();\n",
              "      </script>\n",
              "    </div>\n",
              "\n",
              "  <div id=\"id_bdeb97d2-9f31-41f7-b8a8-3603d4779bf8\">\n",
              "    <style>\n",
              "      .colab-df-generate {\n",
              "        background-color: #E8F0FE;\n",
              "        border: none;\n",
              "        border-radius: 50%;\n",
              "        cursor: pointer;\n",
              "        display: none;\n",
              "        fill: #1967D2;\n",
              "        height: 32px;\n",
              "        padding: 0 0 0 0;\n",
              "        width: 32px;\n",
              "      }\n",
              "\n",
              "      .colab-df-generate:hover {\n",
              "        background-color: #E2EBFA;\n",
              "        box-shadow: 0px 1px 2px rgba(60, 64, 67, 0.3), 0px 1px 3px 1px rgba(60, 64, 67, 0.15);\n",
              "        fill: #174EA6;\n",
              "      }\n",
              "\n",
              "      [theme=dark] .colab-df-generate {\n",
              "        background-color: #3B4455;\n",
              "        fill: #D2E3FC;\n",
              "      }\n",
              "\n",
              "      [theme=dark] .colab-df-generate:hover {\n",
              "        background-color: #434B5C;\n",
              "        box-shadow: 0px 1px 3px 1px rgba(0, 0, 0, 0.15);\n",
              "        filter: drop-shadow(0px 1px 2px rgba(0, 0, 0, 0.3));\n",
              "        fill: #FFFFFF;\n",
              "      }\n",
              "    </style>\n",
              "    <button class=\"colab-df-generate\" onclick=\"generateWithVariable('X_tfidf_df')\"\n",
              "            title=\"Generate code using this dataframe.\"\n",
              "            style=\"display:none;\">\n",
              "\n",
              "  <svg xmlns=\"http://www.w3.org/2000/svg\" height=\"24px\"viewBox=\"0 0 24 24\"\n",
              "       width=\"24px\">\n",
              "    <path d=\"M7,19H8.4L18.45,9,17,7.55,7,17.6ZM5,21V16.75L18.45,3.32a2,2,0,0,1,2.83,0l1.4,1.43a1.91,1.91,0,0,1,.58,1.4,1.91,1.91,0,0,1-.58,1.4L9.25,21ZM18.45,9,17,7.55Zm-12,3A5.31,5.31,0,0,0,4.9,8.1,5.31,5.31,0,0,0,1,6.5,5.31,5.31,0,0,0,4.9,4.9,5.31,5.31,0,0,0,6.5,1,5.31,5.31,0,0,0,8.1,4.9,5.31,5.31,0,0,0,12,6.5,5.46,5.46,0,0,0,6.5,12Z\"/>\n",
              "  </svg>\n",
              "    </button>\n",
              "    <script>\n",
              "      (() => {\n",
              "      const buttonEl =\n",
              "        document.querySelector('#id_bdeb97d2-9f31-41f7-b8a8-3603d4779bf8 button.colab-df-generate');\n",
              "      buttonEl.style.display =\n",
              "        google.colab.kernel.accessAllowed ? 'block' : 'none';\n",
              "\n",
              "      buttonEl.onclick = () => {\n",
              "        google.colab.notebook.generateWithVariable('X_tfidf_df');\n",
              "      }\n",
              "      })();\n",
              "    </script>\n",
              "  </div>\n",
              "\n",
              "    </div>\n",
              "  </div>\n"
            ],
            "application/vnd.google.colaboratory.intrinsic+json": {
              "type": "dataframe",
              "variable_name": "X_tfidf_df",
              "summary": "{\n  \"name\": \"X_tfidf_df\",\n  \"rows\": 3,\n  \"fields\": [\n    {\n      \"column\": \"and\",\n      \"properties\": {\n        \"dtype\": \"number\",\n        \"std\": 0.2870123319813254,\n        \"min\": 0.0,\n        \"max\": 0.49711994139048143,\n        \"num_unique_values\": 2,\n        \"samples\": [\n          0.49711994139048143,\n          0.0\n        ],\n        \"semantic_type\": \"\",\n        \"description\": \"\"\n      }\n    },\n    {\n      \"column\": \"document\",\n      \"properties\": {\n        \"dtype\": \"number\",\n        \"std\": 0.3692514631101606,\n        \"min\": 0.0,\n        \"max\": 0.7284448965638161,\n        \"num_unique_values\": 3,\n        \"samples\": [\n          0.4694172843223779,\n          0.7284448965638161\n        ],\n        \"semantic_type\": \"\",\n        \"description\": \"\"\n      }\n    },\n    {\n      \"column\": \"first\",\n      \"properties\": {\n        \"dtype\": \"number\",\n        \"std\": 0.3563563579476069,\n        \"min\": 0.0,\n        \"max\": 0.6172273175654565,\n        \"num_unique_values\": 2,\n        \"samples\": [\n          0.0,\n          0.6172273175654565\n        ],\n        \"semantic_type\": \"\",\n        \"description\": \"\"\n      }\n    },\n    {\n      \"column\": \"is\",\n      \"properties\": {\n        \"dtype\": \"number\",\n        \"std\": 0.044387630146623114,\n        \"min\": 0.2828512224204681,\n        \"max\": 0.3645443967613799,\n        \"num_unique_values\": 3,\n        \"samples\": [\n          0.3645443967613799,\n          0.2828512224204681\n        ],\n        \"semantic_type\": \"\",\n        \"description\": \"\"\n      }\n    },\n    {\n      \"column\": \"one\",\n      \"properties\": {\n        \"dtype\": \"number\",\n        \"std\": 0.2870123319813254,\n        \"min\": 0.0,\n        \"max\": 0.49711994139048143,\n        \"num_unique_values\": 2,\n        \"samples\": [\n          0.49711994139048143,\n          0.0\n        ],\n        \"semantic_type\": \"\",\n        \"description\": \"\"\n      }\n    },\n    {\n      \"column\": \"second\",\n      \"properties\": {\n        \"dtype\": \"number\",\n        \"std\": 0.27649809559071215,\n        \"min\": 0.0,\n        \"max\": 0.47890874975914965,\n        \"num_unique_values\": 2,\n        \"samples\": [\n          0.47890874975914965,\n          0.0\n        ],\n        \"semantic_type\": \"\",\n        \"description\": \"\"\n      }\n    },\n    {\n      \"column\": \"the\",\n      \"properties\": {\n        \"dtype\": \"number\",\n        \"std\": 0.044387630146623114,\n        \"min\": 0.2828512224204681,\n        \"max\": 0.3645443967613799,\n        \"num_unique_values\": 3,\n        \"samples\": [\n          0.3645443967613799,\n          0.2828512224204681\n        ],\n        \"semantic_type\": \"\",\n        \"description\": \"\"\n      }\n    },\n    {\n      \"column\": \"third\",\n      \"properties\": {\n        \"dtype\": \"number\",\n        \"std\": 0.2870123319813254,\n        \"min\": 0.0,\n        \"max\": 0.49711994139048143,\n        \"num_unique_values\": 2,\n        \"samples\": [\n          0.49711994139048143,\n          0.0\n        ],\n        \"semantic_type\": \"\",\n        \"description\": \"\"\n      }\n    },\n    {\n      \"column\": \"this\",\n      \"properties\": {\n        \"dtype\": \"number\",\n        \"std\": 0.044387630146623114,\n        \"min\": 0.2828512224204681,\n        \"max\": 0.3645443967613799,\n        \"num_unique_values\": 3,\n        \"samples\": [\n          0.3645443967613799,\n          0.2828512224204681\n        ],\n        \"semantic_type\": \"\",\n        \"description\": \"\"\n      }\n    }\n  ]\n}"
            }
          },
          "metadata": {},
          "execution_count": 25
        }
      ]
    },
    {
      "cell_type": "markdown",
      "source": [
        "## Word Embeddings (Word2Vec + Continuous Bag-Of-Words)"
      ],
      "metadata": {
        "id": "b3eLC8vUkiZl"
      },
      "id": "b3eLC8vUkiZl"
    },
    {
      "cell_type": "markdown",
      "source": [
        "To allow for word embeddings representation functionality, the following libraries were imported:\n",
        "\n",
        "- `Word2Vec` from **gensim** - exposes the class that implements the functionality of word embeddings using Continuous Bag-of-Words (CBOW).\n",
        "- `word_tokenize` from **nltk** - a function that tokenizes a document into a list of words (tokens).\n",
        "- `pyplot` aliased as `plt` from **matplotlib** - implements visualization of data through graphs and charts.\n",
        "- `nltk` - exposes core library functionality, like downloading corpus used by the library's other methods."
      ],
      "metadata": {
        "id": "yiFOOM7D-ApW"
      },
      "id": "yiFOOM7D-ApW"
    },
    {
      "cell_type": "code",
      "source": [
        "from gensim.models import Word2Vec\n",
        "from nltk.tokenize import word_tokenize\n",
        "\n",
        "import matplotlib.pyplot as plt\n",
        "import nltk"
      ],
      "metadata": {
        "id": "UgfZfAm4ukAu"
      },
      "id": "UgfZfAm4ukAu",
      "execution_count": 26,
      "outputs": []
    },
    {
      "cell_type": "markdown",
      "source": [
        "The `punkt_tab` corpus from the **nltk** library is downloaded, which is used by the `word_tokenize()` function."
      ],
      "metadata": {
        "id": "10R32pFn-55d"
      },
      "id": "10R32pFn-55d"
    },
    {
      "cell_type": "code",
      "source": [
        "nltk.download('punkt_tab')"
      ],
      "metadata": {
        "colab": {
          "base_uri": "https://localhost:8080/"
        },
        "id": "WXltbPqKlNqF",
        "outputId": "8beb42b1-443d-41b3-f281-14f8b077231e"
      },
      "id": "WXltbPqKlNqF",
      "execution_count": 27,
      "outputs": [
        {
          "output_type": "stream",
          "name": "stderr",
          "text": [
            "[nltk_data] Downloading package punkt_tab to /root/nltk_data...\n",
            "[nltk_data]   Unzipping tokenizers/punkt_tab.zip.\n"
          ]
        },
        {
          "output_type": "execute_result",
          "data": {
            "text/plain": [
              "True"
            ]
          },
          "metadata": {},
          "execution_count": 27
        }
      ]
    },
    {
      "cell_type": "markdown",
      "source": [
        "A new list of sentences is defined, which is then subsequently transformed to be all lowercased.\n",
        "\n",
        "Details on how this is done is described [here](#scrollTo=HcuGd7t1vHgo&line=1&uniqifier=1)"
      ],
      "metadata": {
        "id": "Tp8JgwL3_GnT"
      },
      "id": "Tp8JgwL3_GnT"
    },
    {
      "cell_type": "code",
      "source": [
        "sentences = [\n",
        "  \"The quick brown fox jumps over the lazy dog\",\n",
        "  \"A journey of a thousand miles begins with a single step\",\n",
        "  \"To be or not to be that is the question\"\n",
        "]\n",
        "\n",
        "sentences = list(map(lambda sentence: sentence.lower(), sentences))\n",
        "sentences"
      ],
      "metadata": {
        "colab": {
          "base_uri": "https://localhost:8080/"
        },
        "id": "s3hph3rvm4G6",
        "outputId": "375cb8f9-ac7d-475e-f83d-912a962db418"
      },
      "id": "s3hph3rvm4G6",
      "execution_count": 28,
      "outputs": [
        {
          "output_type": "execute_result",
          "data": {
            "text/plain": [
              "['the quick brown fox jumps over the lazy dog',\n",
              " 'a journey of a thousand miles begins with a single step',\n",
              " 'to be or not to be that is the question']"
            ]
          },
          "metadata": {},
          "execution_count": 28
        }
      ]
    },
    {
      "cell_type": "markdown",
      "source": [
        "The sentences are then iterated through one-by-one, where each sentence is tokenized. The result of each operation is stored in the `data` variable."
      ],
      "metadata": {
        "id": "rzRwzmDE_UCf"
      },
      "id": "rzRwzmDE_UCf"
    },
    {
      "cell_type": "code",
      "source": [
        "data = list(map(lambda sentence: word_tokenize(sentence), sentences))\n",
        "data"
      ],
      "metadata": {
        "colab": {
          "base_uri": "https://localhost:8080/"
        },
        "id": "Beza5UZdnS7c",
        "outputId": "83f067cd-1f76-44fc-ec43-3502209f5a49"
      },
      "id": "Beza5UZdnS7c",
      "execution_count": 29,
      "outputs": [
        {
          "output_type": "execute_result",
          "data": {
            "text/plain": [
              "[['the', 'quick', 'brown', 'fox', 'jumps', 'over', 'the', 'lazy', 'dog'],\n",
              " ['a',\n",
              "  'journey',\n",
              "  'of',\n",
              "  'a',\n",
              "  'thousand',\n",
              "  'miles',\n",
              "  'begins',\n",
              "  'with',\n",
              "  'a',\n",
              "  'single',\n",
              "  'step'],\n",
              " ['to', 'be', 'or', 'not', 'to', 'be', 'that', 'is', 'the', 'question']]"
            ]
          },
          "metadata": {},
          "execution_count": 29
        }
      ]
    },
    {
      "cell_type": "markdown",
      "source": [
        "The `Word2Vec` class is instantiated with the following parameters:\n",
        "- `data` - is the data that will be fitted to the model.\n",
        "- `min_count` - is the minimum frequency of a word for it to be included in the model.\n",
        "- `vector_size` - is the maximum size of the resulting vector.\n",
        "- `window` - the amount of words \"around\" a particular that will be looked at by the model for context.\n",
        "\n",
        "The corresponding trained model is stored in the `word2vec_model` variable."
      ],
      "metadata": {
        "id": "KZZHHGMu_fqa"
      },
      "id": "KZZHHGMu_fqa"
    },
    {
      "cell_type": "code",
      "source": [
        "word2vec_model = Word2Vec(\n",
        "    data,\n",
        "    min_count=1,\n",
        "    vector_size=100,\n",
        "    window=5,\n",
        ")"
      ],
      "metadata": {
        "id": "9wyK3S8Sndzu"
      },
      "id": "9wyK3S8Sndzu",
      "execution_count": 30,
      "outputs": []
    },
    {
      "cell_type": "markdown",
      "source": [
        "Firstly, the valid words that was found by the model is stored, accessed from the model instance's `wv` attribute and its `index_to_key` attribute.\n",
        "\n",
        "An infinite loop is started, prompting the user for two words. If the user ever enters a word not found in the model's valid words, it tells the user and loops back to the start.\n",
        "\n",
        "Once the user successfully enters two valid words, it displays the two word's similarity through the model instance's `similarity()` method under its `wv` attribute. This displays how similar the words are according to the context words around it in the dataset. A positive score, approaching one (1) tells that the words are pretty similar, while a negative score, approaching negative one (-1) tells that the words are contextually different."
      ],
      "metadata": {
        "id": "ABMoiYVOAEUW"
      },
      "id": "ABMoiYVOAEUW"
    },
    {
      "cell_type": "code",
      "source": [
        "valid_words = word2vec_model.wv.index_to_key\n",
        "\n",
        "while True:\n",
        "  word1 = input('Enter first word: ')\n",
        "\n",
        "  if word1 not in valid_words:\n",
        "    print(f'{word1} is not a valid word')\n",
        "    continue\n",
        "\n",
        "  word2 = input('Enter second word: ')\n",
        "\n",
        "  if word2 not in valid_words:\n",
        "    print(f'{word2} is not a valid word')\n",
        "    continue\n",
        "\n",
        "  print('Similarity:', word2vec_model.wv.similarity(word1, word2))\n",
        "  break\n"
      ],
      "metadata": {
        "colab": {
          "base_uri": "https://localhost:8080/"
        },
        "id": "yD1DSnharCRj",
        "outputId": "d401a336-fe86-41ff-aa3f-5c475a36b60a"
      },
      "id": "yD1DSnharCRj",
      "execution_count": 31,
      "outputs": [
        {
          "output_type": "stream",
          "name": "stdout",
          "text": [
            "Enter first word: the\n",
            "Enter second word: of\n",
            "Similarity: -0.027850127\n"
          ]
        }
      ]
    },
    {
      "cell_type": "markdown",
      "source": [
        "`visualize_embeddings()` accepts:\n",
        "- embeddings, a keyed collection (e.g., Word2Vec’s .wv) that maps each word to its corresponding vector representation.\n",
        "- words, a list of words whose embeddings will be visualized.\n",
        "\n",
        "This function applies t-distributed Stochastic Neighbor Embedding (t-SNE) to reduce the high-dimensional word embeddings into two dimensions for visualization. It first creates a TSNE object with two output components, a fixed random seed for reproducibility, and a perplexity based on the number of words to display. It then extracts the vector for each word, transforms them into 2D coordinates, and plots them using Matplotlib. Each word is marked as a point on the scatter plot and annotated with its label.\n",
        "\n",
        "The code then obtains the list of vocabulary words from the trained Word2Vec model and stored in the `word2vec_words` variable.\n",
        "\n",
        "Finally, it calls visualize_embeddings() with the Word2Vec embeddings and vocabulary list, producing a scatter plot of the words in 2D space, where spatial proximity reflects similarity in the embedding space."
      ],
      "metadata": {
        "id": "m8CiGs7JA5TA"
      },
      "id": "m8CiGs7JA5TA"
    },
    {
      "cell_type": "code",
      "source": [
        "from sklearn.manifold import TSNE\n",
        "\n",
        "def visualize_embeddings(embeddings, words):\n",
        "    tsne = TSNE(n_components=2, random_state=0, perplexity=len(words)-1)\n",
        "    embedding_vectors = np.array([embeddings[word] for word in words])\n",
        "    two_d_embeddings = tsne.fit_transform(embedding_vectors)\n",
        "\n",
        "    plt.figure(figsize=(8, 8))\n",
        "    for i, word in enumerate(words):\n",
        "        x, y = two_d_embeddings[i, :]\n",
        "        plt.scatter(x, y)\n",
        "        plt.annotate(word, (x, y), xytext=(5, 2), textcoords=\"offset points\", ha=\"right\", va=\"bottom\")\n",
        "    plt.show()\n",
        "\n",
        "# For Word2Vec\n",
        "word2vec_words = word2vec_model.wv.index_to_key\n",
        "visualize_embeddings(word2vec_model.wv, word2vec_words)"
      ],
      "metadata": {
        "colab": {
          "base_uri": "https://localhost:8080/",
          "height": 676
        },
        "id": "9F0_3jkxpsFr",
        "outputId": "68828033-1326-4b68-e202-d71e57b364f1"
      },
      "id": "9F0_3jkxpsFr",
      "execution_count": 32,
      "outputs": [
        {
          "output_type": "display_data",
          "data": {
            "text/plain": [
              "<Figure size 800x800 with 1 Axes>"
            ],
            "image/png": "[encoded data removed]"
          },
          "metadata": {}
        }
      ]
    }
  ],
  "metadata": {
    "kernelspec": {
      "display_name": "Python 3 (ipykernel)",
      "language": "python",
      "name": "python3"
    },
    "language_info": {
      "codemirror_mode": {
        "name": "ipython",
        "version": 3
      },
      "file_extension": ".py",
      "mimetype": "text/x-python",
      "name": "python",
      "nbconvert_exporter": "python",
      "pygments_lexer": "ipython3",
      "version": "3.10.10"
    },
    "colab": {
      "provenance": []
    }
  },
  "nbformat": 4,
  "nbformat_minor": 5
}